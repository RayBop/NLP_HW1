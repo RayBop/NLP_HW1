{
 "cells": [
  {
   "cell_type": "code",
   "execution_count": 51,
   "id": "7559eea7",
   "metadata": {
    "scrolled": true
   },
   "outputs": [
    {
     "name": "stderr",
     "output_type": "stream",
     "text": [
      "[nltk_data] Downloading package punkt to\n",
      "[nltk_data]     /Users/rayboppana/nltk_data...\n",
      "[nltk_data]   Package punkt is already up-to-date!\n",
      "[nltk_data] Downloading package omw-1.4 to\n",
      "[nltk_data]     /Users/rayboppana/nltk_data...\n",
      "[nltk_data]   Package omw-1.4 is already up-to-date!\n",
      "[nltk_data] Downloading package wordnet to\n",
      "[nltk_data]     /Users/rayboppana/nltk_data...\n",
      "[nltk_data]   Package wordnet is already up-to-date!\n",
      "[nltk_data] Downloading package stopwords to\n",
      "[nltk_data]     /Users/rayboppana/nltk_data...\n",
      "[nltk_data]   Package stopwords is already up-to-date!\n"
     ]
    }
   ],
   "source": [
    "import pysentiment2 as ps\n",
    "import pandas as pd \n",
    "import numpy as np \n",
    "import glob, os\n",
    "import sys \n",
    "utils_path = os.path.expanduser(\"~/Documents/Documents - KBO’s MacBook Pro/Utils/\")\n",
    "sys.path.insert(0, utils_path)\n",
    "from Plotly_Utils import pplot, pplot_df, heatmap\n",
    "root = '/Users/rayboppana/Documents/Documents - KBO’s MacBook Pro/MSCF/Mini_5/NLP/HW1/the_tens/'\n",
    "\n",
    "import nltk\n",
    "from nltk import word_tokenize\n",
    "from nltk import FreqDist\n",
    "from nltk.stem import WordNetLemmatizer\n",
    "from nltk.corpus import wordnet\n",
    "from nltk.corpus import stopwords\n",
    "nltk.download('punkt')\n",
    "nltk.download('omw-1.4')    \n",
    "nltk.download('wordnet')\n",
    "nltk.download('stopwords')\n",
    "\n",
    "from tqdm import tqdm \n",
    "from collections import Counter \n",
    "import matplotlib.pyplot as plt \n",
    "import re\n",
    "os.chdir('/Users/rayboppana/Documents/Documents - KBO’s MacBook Pro/MSCF/Mini_5/NLP/HW1/')"
   ]
  },
  {
   "cell_type": "code",
   "execution_count": 42,
   "id": "3623abd7",
   "metadata": {},
   "outputs": [
    {
     "data": {
      "text/html": [
       "<div>\n",
       "<style scoped>\n",
       "    .dataframe tbody tr th:only-of-type {\n",
       "        vertical-align: middle;\n",
       "    }\n",
       "\n",
       "    .dataframe tbody tr th {\n",
       "        vertical-align: top;\n",
       "    }\n",
       "\n",
       "    .dataframe thead th {\n",
       "        text-align: right;\n",
       "    }\n",
       "</style>\n",
       "<table border=\"1\" class=\"dataframe\">\n",
       "  <thead>\n",
       "    <tr style=\"text-align: right;\">\n",
       "      <th></th>\n",
       "      <th>Positive</th>\n",
       "      <th>Negative</th>\n",
       "      <th>Polarity</th>\n",
       "      <th>Subjectivity</th>\n",
       "    </tr>\n",
       "  </thead>\n",
       "  <tbody>\n",
       "    <tr>\n",
       "      <th>Harvard</th>\n",
       "      <td>0</td>\n",
       "      <td>1</td>\n",
       "      <td>-0.999999</td>\n",
       "      <td>0.999999</td>\n",
       "    </tr>\n",
       "    <tr>\n",
       "      <th>Fin-Neg</th>\n",
       "      <td>0</td>\n",
       "      <td>0</td>\n",
       "      <td>0.000000</td>\n",
       "      <td>0.000000</td>\n",
       "    </tr>\n",
       "  </tbody>\n",
       "</table>\n",
       "</div>"
      ],
      "text/plain": [
       "         Positive  Negative  Polarity  Subjectivity\n",
       "Harvard         0         1 -0.999999      0.999999\n",
       "Fin-Neg         0         0  0.000000      0.000000"
      ]
     },
     "execution_count": 42,
     "metadata": {},
     "output_type": "execute_result"
    }
   ],
   "source": [
    "# Harvard and Loughron/McDonald Dictionaries\n",
    "hiv4 = ps.HIV4()\n",
    "lm = ps.LM()\n",
    "\n",
    "dicts = [hiv4,lm]\n",
    "def get_text_score(text, dictionary):\n",
    "    tokens = dictionary.tokenize(text)\n",
    "    return dictionary.get_score(tokens)\n",
    "\n",
    "text = 'Tax'\n",
    "cols = get_text_score(text,hiv4).keys()\n",
    "scores = [list(get_text_score(text,d).values()) for d in dicts]\n",
    "pd.DataFrame(scores, columns=cols, index=['Harvard', 'Fin-Neg'])\n",
    "\n"
   ]
  },
  {
   "cell_type": "code",
   "execution_count": 43,
   "id": "65f76290",
   "metadata": {
    "scrolled": true
   },
   "outputs": [
    {
     "data": {
      "text/html": [
       "<div>\n",
       "<style scoped>\n",
       "    .dataframe tbody tr th:only-of-type {\n",
       "        vertical-align: middle;\n",
       "    }\n",
       "\n",
       "    .dataframe tbody tr th {\n",
       "        vertical-align: top;\n",
       "    }\n",
       "\n",
       "    .dataframe thead th {\n",
       "        text-align: right;\n",
       "    }\n",
       "</style>\n",
       "<table border=\"1\" class=\"dataframe\">\n",
       "  <thead>\n",
       "    <tr style=\"text-align: right;\">\n",
       "      <th></th>\n",
       "      <th>vwretd</th>\n",
       "    </tr>\n",
       "    <tr>\n",
       "      <th>caldt</th>\n",
       "      <th></th>\n",
       "    </tr>\n",
       "  </thead>\n",
       "  <tbody>\n",
       "    <tr>\n",
       "      <th>2011-01-03</th>\n",
       "      <td>0.000385</td>\n",
       "    </tr>\n",
       "    <tr>\n",
       "      <th>2011-01-04</th>\n",
       "      <td>0.000145</td>\n",
       "    </tr>\n",
       "    <tr>\n",
       "      <th>2011-01-05</th>\n",
       "      <td>-0.001190</td>\n",
       "    </tr>\n",
       "    <tr>\n",
       "      <th>2011-01-06</th>\n",
       "      <td>0.009557</td>\n",
       "    </tr>\n",
       "    <tr>\n",
       "      <th>2011-01-07</th>\n",
       "      <td>0.009615</td>\n",
       "    </tr>\n",
       "    <tr>\n",
       "      <th>...</th>\n",
       "      <td>...</td>\n",
       "    </tr>\n",
       "    <tr>\n",
       "      <th>2021-12-27</th>\n",
       "      <td>-0.005258</td>\n",
       "    </tr>\n",
       "    <tr>\n",
       "      <th>2021-12-28</th>\n",
       "      <td>NaN</td>\n",
       "    </tr>\n",
       "    <tr>\n",
       "      <th>2021-12-29</th>\n",
       "      <td>NaN</td>\n",
       "    </tr>\n",
       "    <tr>\n",
       "      <th>2021-12-30</th>\n",
       "      <td>NaN</td>\n",
       "    </tr>\n",
       "    <tr>\n",
       "      <th>2021-12-31</th>\n",
       "      <td>NaN</td>\n",
       "    </tr>\n",
       "  </tbody>\n",
       "</table>\n",
       "<p>2769 rows × 1 columns</p>\n",
       "</div>"
      ],
      "text/plain": [
       "              vwretd\n",
       "caldt               \n",
       "2011-01-03  0.000385\n",
       "2011-01-04  0.000145\n",
       "2011-01-05 -0.001190\n",
       "2011-01-06  0.009557\n",
       "2011-01-07  0.009615\n",
       "...              ...\n",
       "2021-12-27 -0.005258\n",
       "2021-12-28       NaN\n",
       "2021-12-29       NaN\n",
       "2021-12-30       NaN\n",
       "2021-12-31       NaN\n",
       "\n",
       "[2769 rows x 1 columns]"
      ]
     },
     "execution_count": 43,
     "metadata": {},
     "output_type": "execute_result"
    }
   ],
   "source": [
    "mkt_returns = pd.read_csv('mkt_returns.csv')\n",
    "mkt_returns['caldt'] = pd.to_datetime(mkt_returns['caldt'], format='%Y%m%d')\n",
    "mkt_returns.set_index('caldt', inplace=True)\n",
    "mkt_returns = mkt_returns.rolling(4).sum().shift(-4)\n",
    "mkt_returns"
   ]
  },
  {
   "cell_type": "code",
   "execution_count": 44,
   "id": "44cf5c6b",
   "metadata": {
    "scrolled": true
   },
   "outputs": [
    {
     "data": {
      "text/html": [
       "<div>\n",
       "<style scoped>\n",
       "    .dataframe tbody tr th:only-of-type {\n",
       "        vertical-align: middle;\n",
       "    }\n",
       "\n",
       "    .dataframe tbody tr th {\n",
       "        vertical-align: top;\n",
       "    }\n",
       "\n",
       "    .dataframe thead th {\n",
       "        text-align: right;\n",
       "    }\n",
       "</style>\n",
       "<table border=\"1\" class=\"dataframe\">\n",
       "  <thead>\n",
       "    <tr style=\"text-align: right;\">\n",
       "      <th>GVKEY</th>\n",
       "      <th>1045</th>\n",
       "      <th>1075</th>\n",
       "      <th>1078</th>\n",
       "      <th>1161</th>\n",
       "      <th>1177</th>\n",
       "      <th>1209</th>\n",
       "      <th>1230</th>\n",
       "      <th>1279</th>\n",
       "      <th>1300</th>\n",
       "      <th>1327</th>\n",
       "      <th>...</th>\n",
       "      <th>187450</th>\n",
       "      <th>187697</th>\n",
       "      <th>188255</th>\n",
       "      <th>189491</th>\n",
       "      <th>198058</th>\n",
       "      <th>199356</th>\n",
       "      <th>260774</th>\n",
       "      <th>260778</th>\n",
       "      <th>294524</th>\n",
       "      <th>316056</th>\n",
       "    </tr>\n",
       "    <tr>\n",
       "      <th>datadate</th>\n",
       "      <th></th>\n",
       "      <th></th>\n",
       "      <th></th>\n",
       "      <th></th>\n",
       "      <th></th>\n",
       "      <th></th>\n",
       "      <th></th>\n",
       "      <th></th>\n",
       "      <th></th>\n",
       "      <th></th>\n",
       "      <th></th>\n",
       "      <th></th>\n",
       "      <th></th>\n",
       "      <th></th>\n",
       "      <th></th>\n",
       "      <th></th>\n",
       "      <th></th>\n",
       "      <th></th>\n",
       "      <th></th>\n",
       "      <th></th>\n",
       "      <th></th>\n",
       "    </tr>\n",
       "  </thead>\n",
       "  <tbody>\n",
       "    <tr>\n",
       "      <th>2010-01-04</th>\n",
       "      <td>7.72</td>\n",
       "      <td>36.88</td>\n",
       "      <td>54.46</td>\n",
       "      <td>9.70</td>\n",
       "      <td>33.00</td>\n",
       "      <td>83.16</td>\n",
       "      <td>34.87</td>\n",
       "      <td>23.52</td>\n",
       "      <td>40.35</td>\n",
       "      <td>14.82</td>\n",
       "      <td>...</td>\n",
       "      <td>NaN</td>\n",
       "      <td>NaN</td>\n",
       "      <td>NaN</td>\n",
       "      <td>NaN</td>\n",
       "      <td>NaN</td>\n",
       "      <td>NaN</td>\n",
       "      <td>13.82</td>\n",
       "      <td>37.15</td>\n",
       "      <td>NaN</td>\n",
       "      <td>NaN</td>\n",
       "    </tr>\n",
       "    <tr>\n",
       "      <th>2010-01-05</th>\n",
       "      <td>8.36</td>\n",
       "      <td>36.38</td>\n",
       "      <td>54.02</td>\n",
       "      <td>9.71</td>\n",
       "      <td>32.53</td>\n",
       "      <td>82.47</td>\n",
       "      <td>36.78</td>\n",
       "      <td>23.13</td>\n",
       "      <td>40.43</td>\n",
       "      <td>15.05</td>\n",
       "      <td>...</td>\n",
       "      <td>NaN</td>\n",
       "      <td>NaN</td>\n",
       "      <td>NaN</td>\n",
       "      <td>NaN</td>\n",
       "      <td>NaN</td>\n",
       "      <td>NaN</td>\n",
       "      <td>14.15</td>\n",
       "      <td>37.10</td>\n",
       "      <td>NaN</td>\n",
       "      <td>NaN</td>\n",
       "    </tr>\n",
       "    <tr>\n",
       "      <th>2010-01-06</th>\n",
       "      <td>8.11</td>\n",
       "      <td>36.76</td>\n",
       "      <td>54.32</td>\n",
       "      <td>9.57</td>\n",
       "      <td>32.40</td>\n",
       "      <td>81.79</td>\n",
       "      <td>36.45</td>\n",
       "      <td>23.66</td>\n",
       "      <td>40.43</td>\n",
       "      <td>14.91</td>\n",
       "      <td>...</td>\n",
       "      <td>NaN</td>\n",
       "      <td>NaN</td>\n",
       "      <td>NaN</td>\n",
       "      <td>NaN</td>\n",
       "      <td>NaN</td>\n",
       "      <td>NaN</td>\n",
       "      <td>14.03</td>\n",
       "      <td>36.67</td>\n",
       "      <td>NaN</td>\n",
       "      <td>NaN</td>\n",
       "    </tr>\n",
       "    <tr>\n",
       "      <th>2010-01-07</th>\n",
       "      <td>8.25</td>\n",
       "      <td>36.69</td>\n",
       "      <td>54.77</td>\n",
       "      <td>9.47</td>\n",
       "      <td>33.43</td>\n",
       "      <td>81.32</td>\n",
       "      <td>36.26</td>\n",
       "      <td>23.21</td>\n",
       "      <td>41.21</td>\n",
       "      <td>14.74</td>\n",
       "      <td>...</td>\n",
       "      <td>NaN</td>\n",
       "      <td>NaN</td>\n",
       "      <td>NaN</td>\n",
       "      <td>NaN</td>\n",
       "      <td>NaN</td>\n",
       "      <td>NaN</td>\n",
       "      <td>14.17</td>\n",
       "      <td>37.18</td>\n",
       "      <td>NaN</td>\n",
       "      <td>NaN</td>\n",
       "    </tr>\n",
       "    <tr>\n",
       "      <th>2010-01-08</th>\n",
       "      <td>8.11</td>\n",
       "      <td>36.92</td>\n",
       "      <td>55.05</td>\n",
       "      <td>9.43</td>\n",
       "      <td>32.70</td>\n",
       "      <td>81.84</td>\n",
       "      <td>35.54</td>\n",
       "      <td>22.99</td>\n",
       "      <td>42.12</td>\n",
       "      <td>15.00</td>\n",
       "      <td>...</td>\n",
       "      <td>NaN</td>\n",
       "      <td>NaN</td>\n",
       "      <td>NaN</td>\n",
       "      <td>NaN</td>\n",
       "      <td>NaN</td>\n",
       "      <td>NaN</td>\n",
       "      <td>14.20</td>\n",
       "      <td>36.40</td>\n",
       "      <td>NaN</td>\n",
       "      <td>NaN</td>\n",
       "    </tr>\n",
       "    <tr>\n",
       "      <th>...</th>\n",
       "      <td>...</td>\n",
       "      <td>...</td>\n",
       "      <td>...</td>\n",
       "      <td>...</td>\n",
       "      <td>...</td>\n",
       "      <td>...</td>\n",
       "      <td>...</td>\n",
       "      <td>...</td>\n",
       "      <td>...</td>\n",
       "      <td>...</td>\n",
       "      <td>...</td>\n",
       "      <td>...</td>\n",
       "      <td>...</td>\n",
       "      <td>...</td>\n",
       "      <td>...</td>\n",
       "      <td>...</td>\n",
       "      <td>...</td>\n",
       "      <td>...</td>\n",
       "      <td>...</td>\n",
       "      <td>...</td>\n",
       "      <td>...</td>\n",
       "    </tr>\n",
       "    <tr>\n",
       "      <th>2021-12-27</th>\n",
       "      <td>18.17</td>\n",
       "      <td>68.89</td>\n",
       "      <td>141.46</td>\n",
       "      <td>154.36</td>\n",
       "      <td>NaN</td>\n",
       "      <td>302.22</td>\n",
       "      <td>52.62</td>\n",
       "      <td>NaN</td>\n",
       "      <td>206.43</td>\n",
       "      <td>155.36</td>\n",
       "      <td>...</td>\n",
       "      <td>188.69</td>\n",
       "      <td>697.00</td>\n",
       "      <td>104.76</td>\n",
       "      <td>118.29</td>\n",
       "      <td>63.36</td>\n",
       "      <td>27.24</td>\n",
       "      <td>107.79</td>\n",
       "      <td>NaN</td>\n",
       "      <td>91.67</td>\n",
       "      <td>129.58</td>\n",
       "    </tr>\n",
       "    <tr>\n",
       "      <th>2021-12-28</th>\n",
       "      <td>18.54</td>\n",
       "      <td>69.72</td>\n",
       "      <td>140.47</td>\n",
       "      <td>153.15</td>\n",
       "      <td>NaN</td>\n",
       "      <td>303.99</td>\n",
       "      <td>52.90</td>\n",
       "      <td>NaN</td>\n",
       "      <td>207.05</td>\n",
       "      <td>155.94</td>\n",
       "      <td>...</td>\n",
       "      <td>186.79</td>\n",
       "      <td>682.20</td>\n",
       "      <td>105.91</td>\n",
       "      <td>119.52</td>\n",
       "      <td>63.04</td>\n",
       "      <td>27.37</td>\n",
       "      <td>107.72</td>\n",
       "      <td>NaN</td>\n",
       "      <td>92.72</td>\n",
       "      <td>131.06</td>\n",
       "    </tr>\n",
       "    <tr>\n",
       "      <th>2021-12-29</th>\n",
       "      <td>18.05</td>\n",
       "      <td>69.87</td>\n",
       "      <td>141.19</td>\n",
       "      <td>148.26</td>\n",
       "      <td>NaN</td>\n",
       "      <td>305.40</td>\n",
       "      <td>52.14</td>\n",
       "      <td>NaN</td>\n",
       "      <td>207.53</td>\n",
       "      <td>156.37</td>\n",
       "      <td>...</td>\n",
       "      <td>185.47</td>\n",
       "      <td>677.84</td>\n",
       "      <td>106.63</td>\n",
       "      <td>119.36</td>\n",
       "      <td>64.01</td>\n",
       "      <td>27.21</td>\n",
       "      <td>108.58</td>\n",
       "      <td>NaN</td>\n",
       "      <td>92.67</td>\n",
       "      <td>132.37</td>\n",
       "    </tr>\n",
       "    <tr>\n",
       "      <th>2021-12-30</th>\n",
       "      <td>18.07</td>\n",
       "      <td>70.50</td>\n",
       "      <td>141.00</td>\n",
       "      <td>145.15</td>\n",
       "      <td>NaN</td>\n",
       "      <td>303.89</td>\n",
       "      <td>51.94</td>\n",
       "      <td>NaN</td>\n",
       "      <td>207.11</td>\n",
       "      <td>155.80</td>\n",
       "      <td>...</td>\n",
       "      <td>186.41</td>\n",
       "      <td>673.14</td>\n",
       "      <td>105.78</td>\n",
       "      <td>119.10</td>\n",
       "      <td>64.46</td>\n",
       "      <td>27.60</td>\n",
       "      <td>108.51</td>\n",
       "      <td>NaN</td>\n",
       "      <td>92.18</td>\n",
       "      <td>131.56</td>\n",
       "    </tr>\n",
       "    <tr>\n",
       "      <th>2021-12-31</th>\n",
       "      <td>17.96</td>\n",
       "      <td>70.59</td>\n",
       "      <td>140.74</td>\n",
       "      <td>143.90</td>\n",
       "      <td>NaN</td>\n",
       "      <td>304.26</td>\n",
       "      <td>52.10</td>\n",
       "      <td>NaN</td>\n",
       "      <td>208.51</td>\n",
       "      <td>155.14</td>\n",
       "      <td>...</td>\n",
       "      <td>182.94</td>\n",
       "      <td>668.45</td>\n",
       "      <td>106.90</td>\n",
       "      <td>119.92</td>\n",
       "      <td>64.91</td>\n",
       "      <td>27.26</td>\n",
       "      <td>108.51</td>\n",
       "      <td>NaN</td>\n",
       "      <td>92.23</td>\n",
       "      <td>132.44</td>\n",
       "    </tr>\n",
       "  </tbody>\n",
       "</table>\n",
       "<p>3024 rows × 699 columns</p>\n",
       "</div>"
      ],
      "text/plain": [
       "GVKEY       1045    1075    1078    1161    1177    1209    1230    1279    \\\n",
       "datadate                                                                     \n",
       "2010-01-04    7.72   36.88   54.46    9.70   33.00   83.16   34.87   23.52   \n",
       "2010-01-05    8.36   36.38   54.02    9.71   32.53   82.47   36.78   23.13   \n",
       "2010-01-06    8.11   36.76   54.32    9.57   32.40   81.79   36.45   23.66   \n",
       "2010-01-07    8.25   36.69   54.77    9.47   33.43   81.32   36.26   23.21   \n",
       "2010-01-08    8.11   36.92   55.05    9.43   32.70   81.84   35.54   22.99   \n",
       "...            ...     ...     ...     ...     ...     ...     ...     ...   \n",
       "2021-12-27   18.17   68.89  141.46  154.36     NaN  302.22   52.62     NaN   \n",
       "2021-12-28   18.54   69.72  140.47  153.15     NaN  303.99   52.90     NaN   \n",
       "2021-12-29   18.05   69.87  141.19  148.26     NaN  305.40   52.14     NaN   \n",
       "2021-12-30   18.07   70.50  141.00  145.15     NaN  303.89   51.94     NaN   \n",
       "2021-12-31   17.96   70.59  140.74  143.90     NaN  304.26   52.10     NaN   \n",
       "\n",
       "GVKEY       1300    1327    ...  187450  187697  188255  189491  198058  \\\n",
       "datadate                    ...                                           \n",
       "2010-01-04   40.35   14.82  ...     NaN     NaN     NaN     NaN     NaN   \n",
       "2010-01-05   40.43   15.05  ...     NaN     NaN     NaN     NaN     NaN   \n",
       "2010-01-06   40.43   14.91  ...     NaN     NaN     NaN     NaN     NaN   \n",
       "2010-01-07   41.21   14.74  ...     NaN     NaN     NaN     NaN     NaN   \n",
       "2010-01-08   42.12   15.00  ...     NaN     NaN     NaN     NaN     NaN   \n",
       "...            ...     ...  ...     ...     ...     ...     ...     ...   \n",
       "2021-12-27  206.43  155.36  ...  188.69  697.00  104.76  118.29   63.36   \n",
       "2021-12-28  207.05  155.94  ...  186.79  682.20  105.91  119.52   63.04   \n",
       "2021-12-29  207.53  156.37  ...  185.47  677.84  106.63  119.36   64.01   \n",
       "2021-12-30  207.11  155.80  ...  186.41  673.14  105.78  119.10   64.46   \n",
       "2021-12-31  208.51  155.14  ...  182.94  668.45  106.90  119.92   64.91   \n",
       "\n",
       "GVKEY       199356  260774  260778  294524  316056  \n",
       "datadate                                            \n",
       "2010-01-04     NaN   13.82   37.15     NaN     NaN  \n",
       "2010-01-05     NaN   14.15   37.10     NaN     NaN  \n",
       "2010-01-06     NaN   14.03   36.67     NaN     NaN  \n",
       "2010-01-07     NaN   14.17   37.18     NaN     NaN  \n",
       "2010-01-08     NaN   14.20   36.40     NaN     NaN  \n",
       "...            ...     ...     ...     ...     ...  \n",
       "2021-12-27   27.24  107.79     NaN   91.67  129.58  \n",
       "2021-12-28   27.37  107.72     NaN   92.72  131.06  \n",
       "2021-12-29   27.21  108.58     NaN   92.67  132.37  \n",
       "2021-12-30   27.60  108.51     NaN   92.18  131.56  \n",
       "2021-12-31   27.26  108.51     NaN   92.23  132.44  \n",
       "\n",
       "[3024 rows x 699 columns]"
      ]
     },
     "execution_count": 44,
     "metadata": {},
     "output_type": "execute_result"
    }
   ],
   "source": [
    "filename = 'stock_daily_gvkey.csv'\n",
    "date_col = 'datadate'\n",
    "id_col = 'GVKEY'\n",
    "price_col = 'prccd'\n",
    "\n",
    "stock_data = pd.read_csv(filename, low_memory=False)\n",
    "stock_data[date_col] = pd.to_datetime(stock_data[date_col], format='%Y%m%d')\n",
    "stock_data = stock_data.drop_duplicates(subset=[id_col,date_col])\n",
    "stock_data.set_index([id_col, date_col], inplace=True)\n",
    "stock_data = stock_data[price_col]\n",
    "price_data = stock_data.unstack(level=0)\n",
    "price_data"
   ]
  },
  {
   "cell_type": "code",
   "execution_count": 45,
   "id": "2f630e2c",
   "metadata": {
    "scrolled": true
   },
   "outputs": [
    {
     "data": {
      "text/html": [
       "<div>\n",
       "<style scoped>\n",
       "    .dataframe tbody tr th:only-of-type {\n",
       "        vertical-align: middle;\n",
       "    }\n",
       "\n",
       "    .dataframe tbody tr th {\n",
       "        vertical-align: top;\n",
       "    }\n",
       "\n",
       "    .dataframe thead th {\n",
       "        text-align: right;\n",
       "    }\n",
       "</style>\n",
       "<table border=\"1\" class=\"dataframe\">\n",
       "  <thead>\n",
       "    <tr style=\"text-align: right;\">\n",
       "      <th>GVKEY</th>\n",
       "      <th>1045</th>\n",
       "      <th>1075</th>\n",
       "      <th>1078</th>\n",
       "      <th>1161</th>\n",
       "      <th>1177</th>\n",
       "      <th>1209</th>\n",
       "      <th>1230</th>\n",
       "      <th>1279</th>\n",
       "      <th>1300</th>\n",
       "      <th>1327</th>\n",
       "      <th>...</th>\n",
       "      <th>187450</th>\n",
       "      <th>187697</th>\n",
       "      <th>188255</th>\n",
       "      <th>189491</th>\n",
       "      <th>198058</th>\n",
       "      <th>199356</th>\n",
       "      <th>260774</th>\n",
       "      <th>260778</th>\n",
       "      <th>294524</th>\n",
       "      <th>316056</th>\n",
       "    </tr>\n",
       "    <tr>\n",
       "      <th>datadate</th>\n",
       "      <th></th>\n",
       "      <th></th>\n",
       "      <th></th>\n",
       "      <th></th>\n",
       "      <th></th>\n",
       "      <th></th>\n",
       "      <th></th>\n",
       "      <th></th>\n",
       "      <th></th>\n",
       "      <th></th>\n",
       "      <th></th>\n",
       "      <th></th>\n",
       "      <th></th>\n",
       "      <th></th>\n",
       "      <th></th>\n",
       "      <th></th>\n",
       "      <th></th>\n",
       "      <th></th>\n",
       "      <th></th>\n",
       "      <th></th>\n",
       "      <th></th>\n",
       "    </tr>\n",
       "  </thead>\n",
       "  <tbody>\n",
       "    <tr>\n",
       "      <th>2010-01-04</th>\n",
       "      <td>0.050518</td>\n",
       "      <td>0.001085</td>\n",
       "      <td>0.010834</td>\n",
       "      <td>-0.027835</td>\n",
       "      <td>-0.009091</td>\n",
       "      <td>-0.015873</td>\n",
       "      <td>0.019214</td>\n",
       "      <td>-0.022534</td>\n",
       "      <td>0.043866</td>\n",
       "      <td>0.012146</td>\n",
       "      <td>...</td>\n",
       "      <td>NaN</td>\n",
       "      <td>NaN</td>\n",
       "      <td>NaN</td>\n",
       "      <td>NaN</td>\n",
       "      <td>NaN</td>\n",
       "      <td>NaN</td>\n",
       "      <td>0.027496</td>\n",
       "      <td>-0.020188</td>\n",
       "      <td>NaN</td>\n",
       "      <td>NaN</td>\n",
       "    </tr>\n",
       "    <tr>\n",
       "      <th>2010-01-05</th>\n",
       "      <td>-0.037081</td>\n",
       "      <td>0.031336</td>\n",
       "      <td>0.024250</td>\n",
       "      <td>-0.058702</td>\n",
       "      <td>0.006456</td>\n",
       "      <td>0.010549</td>\n",
       "      <td>-0.039695</td>\n",
       "      <td>-0.003891</td>\n",
       "      <td>0.054910</td>\n",
       "      <td>-0.002658</td>\n",
       "      <td>...</td>\n",
       "      <td>NaN</td>\n",
       "      <td>NaN</td>\n",
       "      <td>NaN</td>\n",
       "      <td>NaN</td>\n",
       "      <td>NaN</td>\n",
       "      <td>NaN</td>\n",
       "      <td>-0.006360</td>\n",
       "      <td>-0.040162</td>\n",
       "      <td>NaN</td>\n",
       "      <td>NaN</td>\n",
       "    </tr>\n",
       "    <tr>\n",
       "      <th>2010-01-06</th>\n",
       "      <td>-0.036991</td>\n",
       "      <td>0.018770</td>\n",
       "      <td>0.015648</td>\n",
       "      <td>-0.096134</td>\n",
       "      <td>-0.055247</td>\n",
       "      <td>0.005991</td>\n",
       "      <td>-0.009328</td>\n",
       "      <td>-0.030008</td>\n",
       "      <td>0.043037</td>\n",
       "      <td>-0.013414</td>\n",
       "      <td>...</td>\n",
       "      <td>NaN</td>\n",
       "      <td>NaN</td>\n",
       "      <td>NaN</td>\n",
       "      <td>NaN</td>\n",
       "      <td>NaN</td>\n",
       "      <td>NaN</td>\n",
       "      <td>-0.032074</td>\n",
       "      <td>-0.047450</td>\n",
       "      <td>NaN</td>\n",
       "      <td>NaN</td>\n",
       "    </tr>\n",
       "    <tr>\n",
       "      <th>2010-01-07</th>\n",
       "      <td>-0.019394</td>\n",
       "      <td>0.026165</td>\n",
       "      <td>0.009494</td>\n",
       "      <td>-0.033791</td>\n",
       "      <td>-0.080168</td>\n",
       "      <td>0.021889</td>\n",
       "      <td>0.029785</td>\n",
       "      <td>-0.011202</td>\n",
       "      <td>0.026935</td>\n",
       "      <td>0.021031</td>\n",
       "      <td>...</td>\n",
       "      <td>NaN</td>\n",
       "      <td>NaN</td>\n",
       "      <td>NaN</td>\n",
       "      <td>NaN</td>\n",
       "      <td>NaN</td>\n",
       "      <td>NaN</td>\n",
       "      <td>-0.015526</td>\n",
       "      <td>-0.038999</td>\n",
       "      <td>NaN</td>\n",
       "      <td>NaN</td>\n",
       "    </tr>\n",
       "    <tr>\n",
       "      <th>2010-01-08</th>\n",
       "      <td>0.022195</td>\n",
       "      <td>0.021939</td>\n",
       "      <td>0.005450</td>\n",
       "      <td>-0.045599</td>\n",
       "      <td>-0.039450</td>\n",
       "      <td>0.002810</td>\n",
       "      <td>0.052335</td>\n",
       "      <td>-0.011744</td>\n",
       "      <td>0.010684</td>\n",
       "      <td>0.022000</td>\n",
       "      <td>...</td>\n",
       "      <td>NaN</td>\n",
       "      <td>NaN</td>\n",
       "      <td>NaN</td>\n",
       "      <td>NaN</td>\n",
       "      <td>NaN</td>\n",
       "      <td>NaN</td>\n",
       "      <td>-0.050704</td>\n",
       "      <td>-0.011538</td>\n",
       "      <td>NaN</td>\n",
       "      <td>NaN</td>\n",
       "    </tr>\n",
       "    <tr>\n",
       "      <th>...</th>\n",
       "      <td>...</td>\n",
       "      <td>...</td>\n",
       "      <td>...</td>\n",
       "      <td>...</td>\n",
       "      <td>...</td>\n",
       "      <td>...</td>\n",
       "      <td>...</td>\n",
       "      <td>...</td>\n",
       "      <td>...</td>\n",
       "      <td>...</td>\n",
       "      <td>...</td>\n",
       "      <td>...</td>\n",
       "      <td>...</td>\n",
       "      <td>...</td>\n",
       "      <td>...</td>\n",
       "      <td>...</td>\n",
       "      <td>...</td>\n",
       "      <td>...</td>\n",
       "      <td>...</td>\n",
       "      <td>...</td>\n",
       "      <td>...</td>\n",
       "    </tr>\n",
       "    <tr>\n",
       "      <th>2021-12-27</th>\n",
       "      <td>-0.006300</td>\n",
       "      <td>0.029935</td>\n",
       "      <td>0.000168</td>\n",
       "      <td>-0.062506</td>\n",
       "      <td>NaN</td>\n",
       "      <td>0.012008</td>\n",
       "      <td>-0.004624</td>\n",
       "      <td>NaN</td>\n",
       "      <td>0.015334</td>\n",
       "      <td>0.003842</td>\n",
       "      <td>...</td>\n",
       "      <td>-0.025215</td>\n",
       "      <td>-0.035703</td>\n",
       "      <td>0.025686</td>\n",
       "      <td>0.019038</td>\n",
       "      <td>0.029721</td>\n",
       "      <td>0.005992</td>\n",
       "      <td>0.011938</td>\n",
       "      <td>NaN</td>\n",
       "      <td>0.011367</td>\n",
       "      <td>0.027329</td>\n",
       "    </tr>\n",
       "    <tr>\n",
       "      <th>2021-12-28</th>\n",
       "      <td>NaN</td>\n",
       "      <td>NaN</td>\n",
       "      <td>NaN</td>\n",
       "      <td>NaN</td>\n",
       "      <td>NaN</td>\n",
       "      <td>NaN</td>\n",
       "      <td>NaN</td>\n",
       "      <td>NaN</td>\n",
       "      <td>NaN</td>\n",
       "      <td>NaN</td>\n",
       "      <td>...</td>\n",
       "      <td>NaN</td>\n",
       "      <td>NaN</td>\n",
       "      <td>NaN</td>\n",
       "      <td>NaN</td>\n",
       "      <td>NaN</td>\n",
       "      <td>NaN</td>\n",
       "      <td>NaN</td>\n",
       "      <td>NaN</td>\n",
       "      <td>NaN</td>\n",
       "      <td>NaN</td>\n",
       "    </tr>\n",
       "    <tr>\n",
       "      <th>2021-12-29</th>\n",
       "      <td>NaN</td>\n",
       "      <td>NaN</td>\n",
       "      <td>NaN</td>\n",
       "      <td>NaN</td>\n",
       "      <td>NaN</td>\n",
       "      <td>NaN</td>\n",
       "      <td>NaN</td>\n",
       "      <td>NaN</td>\n",
       "      <td>NaN</td>\n",
       "      <td>NaN</td>\n",
       "      <td>...</td>\n",
       "      <td>NaN</td>\n",
       "      <td>NaN</td>\n",
       "      <td>NaN</td>\n",
       "      <td>NaN</td>\n",
       "      <td>NaN</td>\n",
       "      <td>NaN</td>\n",
       "      <td>NaN</td>\n",
       "      <td>NaN</td>\n",
       "      <td>NaN</td>\n",
       "      <td>NaN</td>\n",
       "    </tr>\n",
       "    <tr>\n",
       "      <th>2021-12-30</th>\n",
       "      <td>NaN</td>\n",
       "      <td>NaN</td>\n",
       "      <td>NaN</td>\n",
       "      <td>NaN</td>\n",
       "      <td>NaN</td>\n",
       "      <td>NaN</td>\n",
       "      <td>NaN</td>\n",
       "      <td>NaN</td>\n",
       "      <td>NaN</td>\n",
       "      <td>NaN</td>\n",
       "      <td>...</td>\n",
       "      <td>NaN</td>\n",
       "      <td>NaN</td>\n",
       "      <td>NaN</td>\n",
       "      <td>NaN</td>\n",
       "      <td>NaN</td>\n",
       "      <td>NaN</td>\n",
       "      <td>NaN</td>\n",
       "      <td>NaN</td>\n",
       "      <td>NaN</td>\n",
       "      <td>NaN</td>\n",
       "    </tr>\n",
       "    <tr>\n",
       "      <th>2021-12-31</th>\n",
       "      <td>NaN</td>\n",
       "      <td>NaN</td>\n",
       "      <td>NaN</td>\n",
       "      <td>NaN</td>\n",
       "      <td>NaN</td>\n",
       "      <td>NaN</td>\n",
       "      <td>NaN</td>\n",
       "      <td>NaN</td>\n",
       "      <td>NaN</td>\n",
       "      <td>NaN</td>\n",
       "      <td>...</td>\n",
       "      <td>NaN</td>\n",
       "      <td>NaN</td>\n",
       "      <td>NaN</td>\n",
       "      <td>NaN</td>\n",
       "      <td>NaN</td>\n",
       "      <td>NaN</td>\n",
       "      <td>NaN</td>\n",
       "      <td>NaN</td>\n",
       "      <td>NaN</td>\n",
       "      <td>NaN</td>\n",
       "    </tr>\n",
       "  </tbody>\n",
       "</table>\n",
       "<p>3024 rows × 699 columns</p>\n",
       "</div>"
      ],
      "text/plain": [
       "GVKEY         1045      1075      1078      1161      1177      1209    \\\n",
       "datadate                                                                 \n",
       "2010-01-04  0.050518  0.001085  0.010834 -0.027835 -0.009091 -0.015873   \n",
       "2010-01-05 -0.037081  0.031336  0.024250 -0.058702  0.006456  0.010549   \n",
       "2010-01-06 -0.036991  0.018770  0.015648 -0.096134 -0.055247  0.005991   \n",
       "2010-01-07 -0.019394  0.026165  0.009494 -0.033791 -0.080168  0.021889   \n",
       "2010-01-08  0.022195  0.021939  0.005450 -0.045599 -0.039450  0.002810   \n",
       "...              ...       ...       ...       ...       ...       ...   \n",
       "2021-12-27 -0.006300  0.029935  0.000168 -0.062506       NaN  0.012008   \n",
       "2021-12-28       NaN       NaN       NaN       NaN       NaN       NaN   \n",
       "2021-12-29       NaN       NaN       NaN       NaN       NaN       NaN   \n",
       "2021-12-30       NaN       NaN       NaN       NaN       NaN       NaN   \n",
       "2021-12-31       NaN       NaN       NaN       NaN       NaN       NaN   \n",
       "\n",
       "GVKEY         1230      1279      1300      1327    ...    187450    187697  \\\n",
       "datadate                                            ...                       \n",
       "2010-01-04  0.019214 -0.022534  0.043866  0.012146  ...       NaN       NaN   \n",
       "2010-01-05 -0.039695 -0.003891  0.054910 -0.002658  ...       NaN       NaN   \n",
       "2010-01-06 -0.009328 -0.030008  0.043037 -0.013414  ...       NaN       NaN   \n",
       "2010-01-07  0.029785 -0.011202  0.026935  0.021031  ...       NaN       NaN   \n",
       "2010-01-08  0.052335 -0.011744  0.010684  0.022000  ...       NaN       NaN   \n",
       "...              ...       ...       ...       ...  ...       ...       ...   \n",
       "2021-12-27 -0.004624       NaN  0.015334  0.003842  ... -0.025215 -0.035703   \n",
       "2021-12-28       NaN       NaN       NaN       NaN  ...       NaN       NaN   \n",
       "2021-12-29       NaN       NaN       NaN       NaN  ...       NaN       NaN   \n",
       "2021-12-30       NaN       NaN       NaN       NaN  ...       NaN       NaN   \n",
       "2021-12-31       NaN       NaN       NaN       NaN  ...       NaN       NaN   \n",
       "\n",
       "GVKEY         188255    189491    198058    199356    260774    260778  \\\n",
       "datadate                                                                 \n",
       "2010-01-04       NaN       NaN       NaN       NaN  0.027496 -0.020188   \n",
       "2010-01-05       NaN       NaN       NaN       NaN -0.006360 -0.040162   \n",
       "2010-01-06       NaN       NaN       NaN       NaN -0.032074 -0.047450   \n",
       "2010-01-07       NaN       NaN       NaN       NaN -0.015526 -0.038999   \n",
       "2010-01-08       NaN       NaN       NaN       NaN -0.050704 -0.011538   \n",
       "...              ...       ...       ...       ...       ...       ...   \n",
       "2021-12-27  0.025686  0.019038  0.029721  0.005992  0.011938       NaN   \n",
       "2021-12-28       NaN       NaN       NaN       NaN       NaN       NaN   \n",
       "2021-12-29       NaN       NaN       NaN       NaN       NaN       NaN   \n",
       "2021-12-30       NaN       NaN       NaN       NaN       NaN       NaN   \n",
       "2021-12-31       NaN       NaN       NaN       NaN       NaN       NaN   \n",
       "\n",
       "GVKEY         294524    316056  \n",
       "datadate                        \n",
       "2010-01-04       NaN       NaN  \n",
       "2010-01-05       NaN       NaN  \n",
       "2010-01-06       NaN       NaN  \n",
       "2010-01-07       NaN       NaN  \n",
       "2010-01-08       NaN       NaN  \n",
       "...              ...       ...  \n",
       "2021-12-27  0.011367  0.027329  \n",
       "2021-12-28       NaN       NaN  \n",
       "2021-12-29       NaN       NaN  \n",
       "2021-12-30       NaN       NaN  \n",
       "2021-12-31       NaN       NaN  \n",
       "\n",
       "[3024 rows x 699 columns]"
      ]
     },
     "execution_count": 45,
     "metadata": {},
     "output_type": "execute_result"
    }
   ],
   "source": [
    "excess_returns = price_data.shift(-4)/price_data-1\n",
    "excess_returns.loc[mkt_returns.index] -= np.array(mkt_returns)\n",
    "excess_returns"
   ]
  },
  {
   "cell_type": "code",
   "execution_count": 55,
   "id": "5d24eb48",
   "metadata": {
    "scrolled": true
   },
   "outputs": [
    {
     "name": "stdout",
     "output_type": "stream",
     "text": [
      "Computing M, alpha, and excess returns\n"
     ]
    },
    {
     "name": "stderr",
     "output_type": "stream",
     "text": [
      "100%|███████████████████████████████████████████████████████████████████████████████████████████████████████████| 88/88 [00:23<00:00,  3.79it/s]\n"
     ]
    },
    {
     "name": "stdout",
     "output_type": "stream",
     "text": [
      "Computing TF and df\n"
     ]
    },
    {
     "name": "stderr",
     "output_type": "stream",
     "text": [
      "100%|███████████████████████████████████████████████████████████████████████████████████████████████████████████| 88/88 [00:06<00:00, 13.24it/s]\n",
      "/var/folders/zl/94x3_2q90pz6190q9z3x5_c00000gp/T/ipykernel_32557/532084717.py:102: RuntimeWarning:\n",
      "\n",
      "divide by zero encountered in log\n",
      "\n"
     ]
    },
    {
     "data": {
      "text/html": [
       "<div>\n",
       "<style scoped>\n",
       "    .dataframe tbody tr th:only-of-type {\n",
       "        vertical-align: middle;\n",
       "    }\n",
       "\n",
       "    .dataframe tbody tr th {\n",
       "        vertical-align: top;\n",
       "    }\n",
       "\n",
       "    .dataframe thead th {\n",
       "        text-align: right;\n",
       "    }\n",
       "</style>\n",
       "<table border=\"1\" class=\"dataframe\">\n",
       "  <thead>\n",
       "    <tr style=\"text-align: right;\">\n",
       "      <th></th>\n",
       "      <th>Harvard Negative Proportion</th>\n",
       "      <th>Fin Neg Negative Proportion</th>\n",
       "      <th>Excess Returns</th>\n",
       "    </tr>\n",
       "  </thead>\n",
       "  <tbody>\n",
       "    <tr>\n",
       "      <th>0</th>\n",
       "      <td>0.000491</td>\n",
       "      <td>0.000511</td>\n",
       "      <td>-0.016024</td>\n",
       "    </tr>\n",
       "    <tr>\n",
       "      <th>1</th>\n",
       "      <td>0.002010</td>\n",
       "      <td>0.002497</td>\n",
       "      <td>0.052218</td>\n",
       "    </tr>\n",
       "    <tr>\n",
       "      <th>2</th>\n",
       "      <td>0.000440</td>\n",
       "      <td>0.000463</td>\n",
       "      <td>-0.000250</td>\n",
       "    </tr>\n",
       "    <tr>\n",
       "      <th>3</th>\n",
       "      <td>0.000462</td>\n",
       "      <td>0.000476</td>\n",
       "      <td>0.006011</td>\n",
       "    </tr>\n",
       "    <tr>\n",
       "      <th>4</th>\n",
       "      <td>0.000286</td>\n",
       "      <td>0.000392</td>\n",
       "      <td>-0.015119</td>\n",
       "    </tr>\n",
       "    <tr>\n",
       "      <th>...</th>\n",
       "      <td>...</td>\n",
       "      <td>...</td>\n",
       "      <td>...</td>\n",
       "    </tr>\n",
       "    <tr>\n",
       "      <th>83</th>\n",
       "      <td>0.001104</td>\n",
       "      <td>0.001144</td>\n",
       "      <td>NaN</td>\n",
       "    </tr>\n",
       "    <tr>\n",
       "      <th>84</th>\n",
       "      <td>0.000329</td>\n",
       "      <td>0.000202</td>\n",
       "      <td>NaN</td>\n",
       "    </tr>\n",
       "    <tr>\n",
       "      <th>85</th>\n",
       "      <td>0.000323</td>\n",
       "      <td>0.000221</td>\n",
       "      <td>NaN</td>\n",
       "    </tr>\n",
       "    <tr>\n",
       "      <th>86</th>\n",
       "      <td>0.000259</td>\n",
       "      <td>0.000327</td>\n",
       "      <td>NaN</td>\n",
       "    </tr>\n",
       "    <tr>\n",
       "      <th>87</th>\n",
       "      <td>0.000275</td>\n",
       "      <td>0.000180</td>\n",
       "      <td>NaN</td>\n",
       "    </tr>\n",
       "  </tbody>\n",
       "</table>\n",
       "<p>88 rows × 3 columns</p>\n",
       "</div>"
      ],
      "text/plain": [
       "    Harvard Negative Proportion  Fin Neg Negative Proportion  Excess Returns\n",
       "0                      0.000491                     0.000511       -0.016024\n",
       "1                      0.002010                     0.002497        0.052218\n",
       "2                      0.000440                     0.000463       -0.000250\n",
       "3                      0.000462                     0.000476        0.006011\n",
       "4                      0.000286                     0.000392       -0.015119\n",
       "..                          ...                          ...             ...\n",
       "83                     0.001104                     0.001144             NaN\n",
       "84                     0.000329                     0.000202             NaN\n",
       "85                     0.000323                     0.000221             NaN\n",
       "86                     0.000259                     0.000327             NaN\n",
       "87                     0.000275                     0.000180             NaN\n",
       "\n",
       "[88 rows x 3 columns]"
      ]
     },
     "execution_count": 55,
     "metadata": {},
     "output_type": "execute_result"
    }
   ],
   "source": [
    "ignore = ['.DS_Store', '.ipynb_checkpoints']\n",
    "os.chdir('/Users/rayboppana/Documents/Documents - KBO’s MacBook Pro/MSCF/Mini_5/NLP/HW1/')\n",
    "folders = os.listdir()\n",
    "\n",
    "# Harvard and Loughron/McDonald Dictionaries\n",
    "hiv4 = ps.HIV4()\n",
    "lm = ps.LM()\n",
    "\n",
    "dicts = [hiv4,lm]\n",
    "def get_text_score(text, dictionary):\n",
    "    tokens = dictionary.tokenize(text)\n",
    "    return dictionary.get_score(tokens)\n",
    "\n",
    "# text preprocessing\n",
    "def lemmatize_words(words):\n",
    "    lemmatized_words = [WordNetLemmatizer().lemmatize(word, 'v') for word in words]\n",
    "    return lemmatized_words\n",
    "    \n",
    "def preprocess_text(text):\n",
    "    # 1. switch to lower case\n",
    "    clean_text = text.lower()\n",
    "\n",
    "    # 2. lemmatize the data\n",
    "    word_pattern = re.compile('\\w+')\n",
    "    text_lemma = lemmatize_words(word_pattern.findall(clean_text))\n",
    "    \n",
    "    # 3. remove the stop words\n",
    "    lemma_english_stopwords = lemmatize_words(stopwords.words('english'))\n",
    "    text_lemma = [word for word in text_lemma if word not in lemma_english_stopwords]\n",
    "    \n",
    "    # preprocessed text\n",
    "    lemma_doc =  ' '.join(text_lemma)\n",
    "    \n",
    "    return lemma_doc\n",
    "\n",
    "  \n",
    "# Get all folders \n",
    "subfolders = [x[0] for x in os.walk(root )][1:]\n",
    "gvkey_txt_dict = dict() # key = gvkey, value = name of txt\n",
    "\n",
    "N = 0\n",
    "gvk_txt = []\n",
    "for folder in subfolders:\n",
    "    os.chdir(folder)\n",
    "    txt_names=[]\n",
    "    for file in glob.glob(\"*.txt\"):\n",
    "        txt_names.append(folder.split('/')[-1] + '/'+ file)\n",
    "        N+=1\n",
    "    gvk_txt.extend(txt_names)\n",
    "\n",
    "# compute M, alpha vector, and excess returns vector in first pass \n",
    "all_tokens = []\n",
    "alpha = np.zeros(N)\n",
    "excess_returns_vec = np.zeros(N)\n",
    "alpha_index = 0\n",
    "print(\"Computing M, alpha, and excess returns\")\n",
    "texts = []\n",
    "for file in tqdm(gvk_txt):\n",
    "    with open(root + file,'r') as f:\n",
    "        text = f.read()\n",
    "        text = preprocess_text(text)\n",
    "        texts.append(text)\n",
    "        \n",
    "    tokens = word_tokenize(text)\n",
    "    alpha[alpha_index] = len(tokens)/len(set(tokens))\n",
    "\n",
    "    all_tokens.extend(tokens)\n",
    "\n",
    "    date = file[file.index('/')+1: file.index('.')]\n",
    "    gvkey = int(file[:file.index('/')])\n",
    "    if date in excess_returns.index and gvkey in excess_returns.columns:\n",
    "        excess_returns_vec[alpha_index] = excess_returns.loc[date, gvkey]\n",
    "    else:\n",
    "        excess_returns_vec[alpha_index] = np.nan\n",
    "\n",
    "    alpha_index += 1\n",
    "\n",
    "unique_words = list(set(all_tokens))\n",
    "M = len(unique_words)\n",
    "word_index = dict(zip(unique_words, np.arange(M)))\n",
    "\n",
    "# compute TF and df in second pass \n",
    "tf = np.zeros((M,N))\n",
    "df = np.zeros(M)\n",
    "j = 0\n",
    "print(\"Computing TF and df\")\n",
    "for text in tqdm(texts):\n",
    "    tokens = word_tokenize(text)\n",
    "    count_dict = Counter(tokens)\n",
    "    for word in count_dict:\n",
    "        i = word_index[word]\n",
    "        tf[i,j] = count_dict[word]\n",
    "        df[i] += 1\n",
    "    j += 1\n",
    "\n",
    "# compute W matrix \n",
    "W = (1 + np.log(tf))*( np.log(N/df).reshape(-1,1) @ (1/(1+np.log(alpha)).reshape(1,-1)))\n",
    "W[W==np.NINF] = 0\n",
    "\n",
    "# Add two negativity_flag row vector from hiv and fin_neg\n",
    "neg_hiv4= np.zeros((1,M))\n",
    "neg_lm = np.zeros((1,M))\n",
    "\n",
    "for i in range(len(unique_words)):\n",
    "    neg_hiv4[0,i] = get_text_score(unique_words[i],hiv4)['Negative']\n",
    "    neg_lm[0,i] =  get_text_score(unique_words[i],lm)['Negative']\n",
    "\n",
    "# negative proportion for each document\n",
    "neg_prop_hiv = neg_hiv4 @ W / W.sum()\n",
    "neg_prop_finneg = neg_lm @ W/ W.sum()\n",
    "\n",
    "\n",
    "\n",
    "results = pd.DataFrame({\"Harvard Negative Proportion\": neg_prop_hiv.reshape(-1),\n",
    "                        \"Fin Neg Negative Proportion\": neg_prop_finneg.reshape(-1),\n",
    "                        \"Excess Returns\": excess_returns_vec})\n",
    "\n",
    "\n",
    "\n",
    "\n",
    "results"
   ]
  },
  {
   "cell_type": "code",
   "execution_count": 57,
   "id": "0d47138f",
   "metadata": {},
   "outputs": [
    {
     "data": {
      "application/vnd.plotly.v1+json": {
       "config": {
        "plotlyServerURL": "https://plot.ly"
       },
       "data": [
        {
         "name": "H4N-Inf",
         "type": "scatter",
         "x": [
          0,
          1,
          2,
          3,
          4
         ],
         "y": [
          -0.00025007984790879033,
          -0.009551887413756604,
          0.004875245027843969,
          -0.01992920900797944,
          -0.021508293875978926
         ],
         "yaxis": "y"
        },
        {
         "name": "Fin-Neg",
         "type": "scatter",
         "x": [
          0,
          1,
          2,
          3,
          4
         ],
         "y": [
          -0.006771132345914919,
          -0.006083785096220816,
          -0.015667741688956932,
          -0.016486204006872437,
          -0.021508293875978926
         ],
         "yaxis": "y"
        }
       ],
       "layout": {
        "height": 600,
        "template": {
         "data": {
          "bar": [
           {
            "error_x": {
             "color": "#2a3f5f"
            },
            "error_y": {
             "color": "#2a3f5f"
            },
            "marker": {
             "line": {
              "color": "#E5ECF6",
              "width": 0.5
             },
             "pattern": {
              "fillmode": "overlay",
              "size": 10,
              "solidity": 0.2
             }
            },
            "type": "bar"
           }
          ],
          "barpolar": [
           {
            "marker": {
             "line": {
              "color": "#E5ECF6",
              "width": 0.5
             },
             "pattern": {
              "fillmode": "overlay",
              "size": 10,
              "solidity": 0.2
             }
            },
            "type": "barpolar"
           }
          ],
          "carpet": [
           {
            "aaxis": {
             "endlinecolor": "#2a3f5f",
             "gridcolor": "white",
             "linecolor": "white",
             "minorgridcolor": "white",
             "startlinecolor": "#2a3f5f"
            },
            "baxis": {
             "endlinecolor": "#2a3f5f",
             "gridcolor": "white",
             "linecolor": "white",
             "minorgridcolor": "white",
             "startlinecolor": "#2a3f5f"
            },
            "type": "carpet"
           }
          ],
          "choropleth": [
           {
            "colorbar": {
             "outlinewidth": 0,
             "ticks": ""
            },
            "type": "choropleth"
           }
          ],
          "contour": [
           {
            "colorbar": {
             "outlinewidth": 0,
             "ticks": ""
            },
            "colorscale": [
             [
              0,
              "#0d0887"
             ],
             [
              0.1111111111111111,
              "#46039f"
             ],
             [
              0.2222222222222222,
              "#7201a8"
             ],
             [
              0.3333333333333333,
              "#9c179e"
             ],
             [
              0.4444444444444444,
              "#bd3786"
             ],
             [
              0.5555555555555556,
              "#d8576b"
             ],
             [
              0.6666666666666666,
              "#ed7953"
             ],
             [
              0.7777777777777778,
              "#fb9f3a"
             ],
             [
              0.8888888888888888,
              "#fdca26"
             ],
             [
              1,
              "#f0f921"
             ]
            ],
            "type": "contour"
           }
          ],
          "contourcarpet": [
           {
            "colorbar": {
             "outlinewidth": 0,
             "ticks": ""
            },
            "type": "contourcarpet"
           }
          ],
          "heatmap": [
           {
            "colorbar": {
             "outlinewidth": 0,
             "ticks": ""
            },
            "colorscale": [
             [
              0,
              "#0d0887"
             ],
             [
              0.1111111111111111,
              "#46039f"
             ],
             [
              0.2222222222222222,
              "#7201a8"
             ],
             [
              0.3333333333333333,
              "#9c179e"
             ],
             [
              0.4444444444444444,
              "#bd3786"
             ],
             [
              0.5555555555555556,
              "#d8576b"
             ],
             [
              0.6666666666666666,
              "#ed7953"
             ],
             [
              0.7777777777777778,
              "#fb9f3a"
             ],
             [
              0.8888888888888888,
              "#fdca26"
             ],
             [
              1,
              "#f0f921"
             ]
            ],
            "type": "heatmap"
           }
          ],
          "heatmapgl": [
           {
            "colorbar": {
             "outlinewidth": 0,
             "ticks": ""
            },
            "colorscale": [
             [
              0,
              "#0d0887"
             ],
             [
              0.1111111111111111,
              "#46039f"
             ],
             [
              0.2222222222222222,
              "#7201a8"
             ],
             [
              0.3333333333333333,
              "#9c179e"
             ],
             [
              0.4444444444444444,
              "#bd3786"
             ],
             [
              0.5555555555555556,
              "#d8576b"
             ],
             [
              0.6666666666666666,
              "#ed7953"
             ],
             [
              0.7777777777777778,
              "#fb9f3a"
             ],
             [
              0.8888888888888888,
              "#fdca26"
             ],
             [
              1,
              "#f0f921"
             ]
            ],
            "type": "heatmapgl"
           }
          ],
          "histogram": [
           {
            "marker": {
             "pattern": {
              "fillmode": "overlay",
              "size": 10,
              "solidity": 0.2
             }
            },
            "type": "histogram"
           }
          ],
          "histogram2d": [
           {
            "colorbar": {
             "outlinewidth": 0,
             "ticks": ""
            },
            "colorscale": [
             [
              0,
              "#0d0887"
             ],
             [
              0.1111111111111111,
              "#46039f"
             ],
             [
              0.2222222222222222,
              "#7201a8"
             ],
             [
              0.3333333333333333,
              "#9c179e"
             ],
             [
              0.4444444444444444,
              "#bd3786"
             ],
             [
              0.5555555555555556,
              "#d8576b"
             ],
             [
              0.6666666666666666,
              "#ed7953"
             ],
             [
              0.7777777777777778,
              "#fb9f3a"
             ],
             [
              0.8888888888888888,
              "#fdca26"
             ],
             [
              1,
              "#f0f921"
             ]
            ],
            "type": "histogram2d"
           }
          ],
          "histogram2dcontour": [
           {
            "colorbar": {
             "outlinewidth": 0,
             "ticks": ""
            },
            "colorscale": [
             [
              0,
              "#0d0887"
             ],
             [
              0.1111111111111111,
              "#46039f"
             ],
             [
              0.2222222222222222,
              "#7201a8"
             ],
             [
              0.3333333333333333,
              "#9c179e"
             ],
             [
              0.4444444444444444,
              "#bd3786"
             ],
             [
              0.5555555555555556,
              "#d8576b"
             ],
             [
              0.6666666666666666,
              "#ed7953"
             ],
             [
              0.7777777777777778,
              "#fb9f3a"
             ],
             [
              0.8888888888888888,
              "#fdca26"
             ],
             [
              1,
              "#f0f921"
             ]
            ],
            "type": "histogram2dcontour"
           }
          ],
          "mesh3d": [
           {
            "colorbar": {
             "outlinewidth": 0,
             "ticks": ""
            },
            "type": "mesh3d"
           }
          ],
          "parcoords": [
           {
            "line": {
             "colorbar": {
              "outlinewidth": 0,
              "ticks": ""
             }
            },
            "type": "parcoords"
           }
          ],
          "pie": [
           {
            "automargin": true,
            "type": "pie"
           }
          ],
          "scatter": [
           {
            "fillpattern": {
             "fillmode": "overlay",
             "size": 10,
             "solidity": 0.2
            },
            "type": "scatter"
           }
          ],
          "scatter3d": [
           {
            "line": {
             "colorbar": {
              "outlinewidth": 0,
              "ticks": ""
             }
            },
            "marker": {
             "colorbar": {
              "outlinewidth": 0,
              "ticks": ""
             }
            },
            "type": "scatter3d"
           }
          ],
          "scattercarpet": [
           {
            "marker": {
             "colorbar": {
              "outlinewidth": 0,
              "ticks": ""
             }
            },
            "type": "scattercarpet"
           }
          ],
          "scattergeo": [
           {
            "marker": {
             "colorbar": {
              "outlinewidth": 0,
              "ticks": ""
             }
            },
            "type": "scattergeo"
           }
          ],
          "scattergl": [
           {
            "marker": {
             "colorbar": {
              "outlinewidth": 0,
              "ticks": ""
             }
            },
            "type": "scattergl"
           }
          ],
          "scattermapbox": [
           {
            "marker": {
             "colorbar": {
              "outlinewidth": 0,
              "ticks": ""
             }
            },
            "type": "scattermapbox"
           }
          ],
          "scatterpolar": [
           {
            "marker": {
             "colorbar": {
              "outlinewidth": 0,
              "ticks": ""
             }
            },
            "type": "scatterpolar"
           }
          ],
          "scatterpolargl": [
           {
            "marker": {
             "colorbar": {
              "outlinewidth": 0,
              "ticks": ""
             }
            },
            "type": "scatterpolargl"
           }
          ],
          "scatterternary": [
           {
            "marker": {
             "colorbar": {
              "outlinewidth": 0,
              "ticks": ""
             }
            },
            "type": "scatterternary"
           }
          ],
          "surface": [
           {
            "colorbar": {
             "outlinewidth": 0,
             "ticks": ""
            },
            "colorscale": [
             [
              0,
              "#0d0887"
             ],
             [
              0.1111111111111111,
              "#46039f"
             ],
             [
              0.2222222222222222,
              "#7201a8"
             ],
             [
              0.3333333333333333,
              "#9c179e"
             ],
             [
              0.4444444444444444,
              "#bd3786"
             ],
             [
              0.5555555555555556,
              "#d8576b"
             ],
             [
              0.6666666666666666,
              "#ed7953"
             ],
             [
              0.7777777777777778,
              "#fb9f3a"
             ],
             [
              0.8888888888888888,
              "#fdca26"
             ],
             [
              1,
              "#f0f921"
             ]
            ],
            "type": "surface"
           }
          ],
          "table": [
           {
            "cells": {
             "fill": {
              "color": "#EBF0F8"
             },
             "line": {
              "color": "white"
             }
            },
            "header": {
             "fill": {
              "color": "#C8D4E3"
             },
             "line": {
              "color": "white"
             }
            },
            "type": "table"
           }
          ]
         },
         "layout": {
          "annotationdefaults": {
           "arrowcolor": "#2a3f5f",
           "arrowhead": 0,
           "arrowwidth": 1
          },
          "autotypenumbers": "strict",
          "coloraxis": {
           "colorbar": {
            "outlinewidth": 0,
            "ticks": ""
           }
          },
          "colorscale": {
           "diverging": [
            [
             0,
             "#8e0152"
            ],
            [
             0.1,
             "#c51b7d"
            ],
            [
             0.2,
             "#de77ae"
            ],
            [
             0.3,
             "#f1b6da"
            ],
            [
             0.4,
             "#fde0ef"
            ],
            [
             0.5,
             "#f7f7f7"
            ],
            [
             0.6,
             "#e6f5d0"
            ],
            [
             0.7,
             "#b8e186"
            ],
            [
             0.8,
             "#7fbc41"
            ],
            [
             0.9,
             "#4d9221"
            ],
            [
             1,
             "#276419"
            ]
           ],
           "sequential": [
            [
             0,
             "#0d0887"
            ],
            [
             0.1111111111111111,
             "#46039f"
            ],
            [
             0.2222222222222222,
             "#7201a8"
            ],
            [
             0.3333333333333333,
             "#9c179e"
            ],
            [
             0.4444444444444444,
             "#bd3786"
            ],
            [
             0.5555555555555556,
             "#d8576b"
            ],
            [
             0.6666666666666666,
             "#ed7953"
            ],
            [
             0.7777777777777778,
             "#fb9f3a"
            ],
            [
             0.8888888888888888,
             "#fdca26"
            ],
            [
             1,
             "#f0f921"
            ]
           ],
           "sequentialminus": [
            [
             0,
             "#0d0887"
            ],
            [
             0.1111111111111111,
             "#46039f"
            ],
            [
             0.2222222222222222,
             "#7201a8"
            ],
            [
             0.3333333333333333,
             "#9c179e"
            ],
            [
             0.4444444444444444,
             "#bd3786"
            ],
            [
             0.5555555555555556,
             "#d8576b"
            ],
            [
             0.6666666666666666,
             "#ed7953"
            ],
            [
             0.7777777777777778,
             "#fb9f3a"
            ],
            [
             0.8888888888888888,
             "#fdca26"
            ],
            [
             1,
             "#f0f921"
            ]
           ]
          },
          "colorway": [
           "#636efa",
           "#EF553B",
           "#00cc96",
           "#ab63fa",
           "#FFA15A",
           "#19d3f3",
           "#FF6692",
           "#B6E880",
           "#FF97FF",
           "#FECB52"
          ],
          "font": {
           "color": "#2a3f5f"
          },
          "geo": {
           "bgcolor": "white",
           "lakecolor": "white",
           "landcolor": "#E5ECF6",
           "showlakes": true,
           "showland": true,
           "subunitcolor": "white"
          },
          "hoverlabel": {
           "align": "left"
          },
          "hovermode": "closest",
          "mapbox": {
           "style": "light"
          },
          "paper_bgcolor": "white",
          "plot_bgcolor": "#E5ECF6",
          "polar": {
           "angularaxis": {
            "gridcolor": "white",
            "linecolor": "white",
            "ticks": ""
           },
           "bgcolor": "#E5ECF6",
           "radialaxis": {
            "gridcolor": "white",
            "linecolor": "white",
            "ticks": ""
           }
          },
          "scene": {
           "xaxis": {
            "backgroundcolor": "#E5ECF6",
            "gridcolor": "white",
            "gridwidth": 2,
            "linecolor": "white",
            "showbackground": true,
            "ticks": "",
            "zerolinecolor": "white"
           },
           "yaxis": {
            "backgroundcolor": "#E5ECF6",
            "gridcolor": "white",
            "gridwidth": 2,
            "linecolor": "white",
            "showbackground": true,
            "ticks": "",
            "zerolinecolor": "white"
           },
           "zaxis": {
            "backgroundcolor": "#E5ECF6",
            "gridcolor": "white",
            "gridwidth": 2,
            "linecolor": "white",
            "showbackground": true,
            "ticks": "",
            "zerolinecolor": "white"
           }
          },
          "shapedefaults": {
           "line": {
            "color": "#2a3f5f"
           }
          },
          "ternary": {
           "aaxis": {
            "gridcolor": "white",
            "linecolor": "white",
            "ticks": ""
           },
           "baxis": {
            "gridcolor": "white",
            "linecolor": "white",
            "ticks": ""
           },
           "bgcolor": "#E5ECF6",
           "caxis": {
            "gridcolor": "white",
            "linecolor": "white",
            "ticks": ""
           }
          },
          "title": {
           "x": 0.05
          },
          "xaxis": {
           "automargin": true,
           "gridcolor": "white",
           "linecolor": "white",
           "ticks": "",
           "title": {
            "standoff": 15
           },
           "zerolinecolor": "white",
           "zerolinewidth": 2
          },
          "yaxis": {
           "automargin": true,
           "gridcolor": "white",
           "linecolor": "white",
           "ticks": "",
           "title": {
            "standoff": 15
           },
           "zerolinecolor": "white",
           "zerolinewidth": 2
          }
         }
        },
        "title": {
         "text": "Excess Return vs Quintile",
         "x": 0.5
        },
        "width": 1050,
        "xaxis": {
         "domain": [
          0.09999999999999998,
          0.9
         ],
         "title": {
          "text": "Quintile (based on proportion of negative words)"
         }
        },
        "yaxis": {
         "title": {
          "text": "Median Filing Period Excess Return"
         }
        }
       }
      },
      "text/html": [
       "<div>                            <div id=\"0d1b6937-b58d-4324-bf9d-932802e050fe\" class=\"plotly-graph-div\" style=\"height:600px; width:1050px;\"></div>            <script type=\"text/javascript\">                require([\"plotly\"], function(Plotly) {                    window.PLOTLYENV=window.PLOTLYENV || {};                                    if (document.getElementById(\"0d1b6937-b58d-4324-bf9d-932802e050fe\")) {                    Plotly.newPlot(                        \"0d1b6937-b58d-4324-bf9d-932802e050fe\",                        [{\"name\":\"H4N-Inf\",\"x\":[0,1,2,3,4],\"y\":[-0.00025007984790879033,-0.009551887413756604,0.004875245027843969,-0.01992920900797944,-0.021508293875978926],\"yaxis\":\"y\",\"type\":\"scatter\"},{\"name\":\"Fin-Neg\",\"x\":[0,1,2,3,4],\"y\":[-0.006771132345914919,-0.006083785096220816,-0.015667741688956932,-0.016486204006872437,-0.021508293875978926],\"yaxis\":\"y\",\"type\":\"scatter\"}],                        {\"height\":600,\"title\":{\"text\":\"Excess Return vs Quintile\",\"x\":0.5},\"width\":1050,\"xaxis\":{\"domain\":[0.09999999999999998,0.9],\"title\":{\"text\":\"Quintile (based on proportion of negative words)\"}},\"yaxis\":{\"title\":{\"text\":\"Median Filing Period Excess Return\"}},\"template\":{\"data\":{\"histogram2dcontour\":[{\"type\":\"histogram2dcontour\",\"colorbar\":{\"outlinewidth\":0,\"ticks\":\"\"},\"colorscale\":[[0.0,\"#0d0887\"],[0.1111111111111111,\"#46039f\"],[0.2222222222222222,\"#7201a8\"],[0.3333333333333333,\"#9c179e\"],[0.4444444444444444,\"#bd3786\"],[0.5555555555555556,\"#d8576b\"],[0.6666666666666666,\"#ed7953\"],[0.7777777777777778,\"#fb9f3a\"],[0.8888888888888888,\"#fdca26\"],[1.0,\"#f0f921\"]]}],\"choropleth\":[{\"type\":\"choropleth\",\"colorbar\":{\"outlinewidth\":0,\"ticks\":\"\"}}],\"histogram2d\":[{\"type\":\"histogram2d\",\"colorbar\":{\"outlinewidth\":0,\"ticks\":\"\"},\"colorscale\":[[0.0,\"#0d0887\"],[0.1111111111111111,\"#46039f\"],[0.2222222222222222,\"#7201a8\"],[0.3333333333333333,\"#9c179e\"],[0.4444444444444444,\"#bd3786\"],[0.5555555555555556,\"#d8576b\"],[0.6666666666666666,\"#ed7953\"],[0.7777777777777778,\"#fb9f3a\"],[0.8888888888888888,\"#fdca26\"],[1.0,\"#f0f921\"]]}],\"heatmap\":[{\"type\":\"heatmap\",\"colorbar\":{\"outlinewidth\":0,\"ticks\":\"\"},\"colorscale\":[[0.0,\"#0d0887\"],[0.1111111111111111,\"#46039f\"],[0.2222222222222222,\"#7201a8\"],[0.3333333333333333,\"#9c179e\"],[0.4444444444444444,\"#bd3786\"],[0.5555555555555556,\"#d8576b\"],[0.6666666666666666,\"#ed7953\"],[0.7777777777777778,\"#fb9f3a\"],[0.8888888888888888,\"#fdca26\"],[1.0,\"#f0f921\"]]}],\"heatmapgl\":[{\"type\":\"heatmapgl\",\"colorbar\":{\"outlinewidth\":0,\"ticks\":\"\"},\"colorscale\":[[0.0,\"#0d0887\"],[0.1111111111111111,\"#46039f\"],[0.2222222222222222,\"#7201a8\"],[0.3333333333333333,\"#9c179e\"],[0.4444444444444444,\"#bd3786\"],[0.5555555555555556,\"#d8576b\"],[0.6666666666666666,\"#ed7953\"],[0.7777777777777778,\"#fb9f3a\"],[0.8888888888888888,\"#fdca26\"],[1.0,\"#f0f921\"]]}],\"contourcarpet\":[{\"type\":\"contourcarpet\",\"colorbar\":{\"outlinewidth\":0,\"ticks\":\"\"}}],\"contour\":[{\"type\":\"contour\",\"colorbar\":{\"outlinewidth\":0,\"ticks\":\"\"},\"colorscale\":[[0.0,\"#0d0887\"],[0.1111111111111111,\"#46039f\"],[0.2222222222222222,\"#7201a8\"],[0.3333333333333333,\"#9c179e\"],[0.4444444444444444,\"#bd3786\"],[0.5555555555555556,\"#d8576b\"],[0.6666666666666666,\"#ed7953\"],[0.7777777777777778,\"#fb9f3a\"],[0.8888888888888888,\"#fdca26\"],[1.0,\"#f0f921\"]]}],\"surface\":[{\"type\":\"surface\",\"colorbar\":{\"outlinewidth\":0,\"ticks\":\"\"},\"colorscale\":[[0.0,\"#0d0887\"],[0.1111111111111111,\"#46039f\"],[0.2222222222222222,\"#7201a8\"],[0.3333333333333333,\"#9c179e\"],[0.4444444444444444,\"#bd3786\"],[0.5555555555555556,\"#d8576b\"],[0.6666666666666666,\"#ed7953\"],[0.7777777777777778,\"#fb9f3a\"],[0.8888888888888888,\"#fdca26\"],[1.0,\"#f0f921\"]]}],\"mesh3d\":[{\"type\":\"mesh3d\",\"colorbar\":{\"outlinewidth\":0,\"ticks\":\"\"}}],\"scatter\":[{\"fillpattern\":{\"fillmode\":\"overlay\",\"size\":10,\"solidity\":0.2},\"type\":\"scatter\"}],\"parcoords\":[{\"type\":\"parcoords\",\"line\":{\"colorbar\":{\"outlinewidth\":0,\"ticks\":\"\"}}}],\"scatterpolargl\":[{\"type\":\"scatterpolargl\",\"marker\":{\"colorbar\":{\"outlinewidth\":0,\"ticks\":\"\"}}}],\"bar\":[{\"error_x\":{\"color\":\"#2a3f5f\"},\"error_y\":{\"color\":\"#2a3f5f\"},\"marker\":{\"line\":{\"color\":\"#E5ECF6\",\"width\":0.5},\"pattern\":{\"fillmode\":\"overlay\",\"size\":10,\"solidity\":0.2}},\"type\":\"bar\"}],\"scattergeo\":[{\"type\":\"scattergeo\",\"marker\":{\"colorbar\":{\"outlinewidth\":0,\"ticks\":\"\"}}}],\"scatterpolar\":[{\"type\":\"scatterpolar\",\"marker\":{\"colorbar\":{\"outlinewidth\":0,\"ticks\":\"\"}}}],\"histogram\":[{\"marker\":{\"pattern\":{\"fillmode\":\"overlay\",\"size\":10,\"solidity\":0.2}},\"type\":\"histogram\"}],\"scattergl\":[{\"type\":\"scattergl\",\"marker\":{\"colorbar\":{\"outlinewidth\":0,\"ticks\":\"\"}}}],\"scatter3d\":[{\"type\":\"scatter3d\",\"line\":{\"colorbar\":{\"outlinewidth\":0,\"ticks\":\"\"}},\"marker\":{\"colorbar\":{\"outlinewidth\":0,\"ticks\":\"\"}}}],\"scattermapbox\":[{\"type\":\"scattermapbox\",\"marker\":{\"colorbar\":{\"outlinewidth\":0,\"ticks\":\"\"}}}],\"scatterternary\":[{\"type\":\"scatterternary\",\"marker\":{\"colorbar\":{\"outlinewidth\":0,\"ticks\":\"\"}}}],\"scattercarpet\":[{\"type\":\"scattercarpet\",\"marker\":{\"colorbar\":{\"outlinewidth\":0,\"ticks\":\"\"}}}],\"carpet\":[{\"aaxis\":{\"endlinecolor\":\"#2a3f5f\",\"gridcolor\":\"white\",\"linecolor\":\"white\",\"minorgridcolor\":\"white\",\"startlinecolor\":\"#2a3f5f\"},\"baxis\":{\"endlinecolor\":\"#2a3f5f\",\"gridcolor\":\"white\",\"linecolor\":\"white\",\"minorgridcolor\":\"white\",\"startlinecolor\":\"#2a3f5f\"},\"type\":\"carpet\"}],\"table\":[{\"cells\":{\"fill\":{\"color\":\"#EBF0F8\"},\"line\":{\"color\":\"white\"}},\"header\":{\"fill\":{\"color\":\"#C8D4E3\"},\"line\":{\"color\":\"white\"}},\"type\":\"table\"}],\"barpolar\":[{\"marker\":{\"line\":{\"color\":\"#E5ECF6\",\"width\":0.5},\"pattern\":{\"fillmode\":\"overlay\",\"size\":10,\"solidity\":0.2}},\"type\":\"barpolar\"}],\"pie\":[{\"automargin\":true,\"type\":\"pie\"}]},\"layout\":{\"autotypenumbers\":\"strict\",\"colorway\":[\"#636efa\",\"#EF553B\",\"#00cc96\",\"#ab63fa\",\"#FFA15A\",\"#19d3f3\",\"#FF6692\",\"#B6E880\",\"#FF97FF\",\"#FECB52\"],\"font\":{\"color\":\"#2a3f5f\"},\"hovermode\":\"closest\",\"hoverlabel\":{\"align\":\"left\"},\"paper_bgcolor\":\"white\",\"plot_bgcolor\":\"#E5ECF6\",\"polar\":{\"bgcolor\":\"#E5ECF6\",\"angularaxis\":{\"gridcolor\":\"white\",\"linecolor\":\"white\",\"ticks\":\"\"},\"radialaxis\":{\"gridcolor\":\"white\",\"linecolor\":\"white\",\"ticks\":\"\"}},\"ternary\":{\"bgcolor\":\"#E5ECF6\",\"aaxis\":{\"gridcolor\":\"white\",\"linecolor\":\"white\",\"ticks\":\"\"},\"baxis\":{\"gridcolor\":\"white\",\"linecolor\":\"white\",\"ticks\":\"\"},\"caxis\":{\"gridcolor\":\"white\",\"linecolor\":\"white\",\"ticks\":\"\"}},\"coloraxis\":{\"colorbar\":{\"outlinewidth\":0,\"ticks\":\"\"}},\"colorscale\":{\"sequential\":[[0.0,\"#0d0887\"],[0.1111111111111111,\"#46039f\"],[0.2222222222222222,\"#7201a8\"],[0.3333333333333333,\"#9c179e\"],[0.4444444444444444,\"#bd3786\"],[0.5555555555555556,\"#d8576b\"],[0.6666666666666666,\"#ed7953\"],[0.7777777777777778,\"#fb9f3a\"],[0.8888888888888888,\"#fdca26\"],[1.0,\"#f0f921\"]],\"sequentialminus\":[[0.0,\"#0d0887\"],[0.1111111111111111,\"#46039f\"],[0.2222222222222222,\"#7201a8\"],[0.3333333333333333,\"#9c179e\"],[0.4444444444444444,\"#bd3786\"],[0.5555555555555556,\"#d8576b\"],[0.6666666666666666,\"#ed7953\"],[0.7777777777777778,\"#fb9f3a\"],[0.8888888888888888,\"#fdca26\"],[1.0,\"#f0f921\"]],\"diverging\":[[0,\"#8e0152\"],[0.1,\"#c51b7d\"],[0.2,\"#de77ae\"],[0.3,\"#f1b6da\"],[0.4,\"#fde0ef\"],[0.5,\"#f7f7f7\"],[0.6,\"#e6f5d0\"],[0.7,\"#b8e186\"],[0.8,\"#7fbc41\"],[0.9,\"#4d9221\"],[1,\"#276419\"]]},\"xaxis\":{\"gridcolor\":\"white\",\"linecolor\":\"white\",\"ticks\":\"\",\"title\":{\"standoff\":15},\"zerolinecolor\":\"white\",\"automargin\":true,\"zerolinewidth\":2},\"yaxis\":{\"gridcolor\":\"white\",\"linecolor\":\"white\",\"ticks\":\"\",\"title\":{\"standoff\":15},\"zerolinecolor\":\"white\",\"automargin\":true,\"zerolinewidth\":2},\"scene\":{\"xaxis\":{\"backgroundcolor\":\"#E5ECF6\",\"gridcolor\":\"white\",\"linecolor\":\"white\",\"showbackground\":true,\"ticks\":\"\",\"zerolinecolor\":\"white\",\"gridwidth\":2},\"yaxis\":{\"backgroundcolor\":\"#E5ECF6\",\"gridcolor\":\"white\",\"linecolor\":\"white\",\"showbackground\":true,\"ticks\":\"\",\"zerolinecolor\":\"white\",\"gridwidth\":2},\"zaxis\":{\"backgroundcolor\":\"#E5ECF6\",\"gridcolor\":\"white\",\"linecolor\":\"white\",\"showbackground\":true,\"ticks\":\"\",\"zerolinecolor\":\"white\",\"gridwidth\":2}},\"shapedefaults\":{\"line\":{\"color\":\"#2a3f5f\"}},\"annotationdefaults\":{\"arrowcolor\":\"#2a3f5f\",\"arrowhead\":0,\"arrowwidth\":1},\"geo\":{\"bgcolor\":\"white\",\"landcolor\":\"#E5ECF6\",\"subunitcolor\":\"white\",\"showland\":true,\"showlakes\":true,\"lakecolor\":\"white\"},\"title\":{\"x\":0.05},\"mapbox\":{\"style\":\"light\"}}}},                        {\"responsive\": true}                    ).then(function(){\n",
       "                            \n",
       "var gd = document.getElementById('0d1b6937-b58d-4324-bf9d-932802e050fe');\n",
       "var x = new MutationObserver(function (mutations, observer) {{\n",
       "        var display = window.getComputedStyle(gd).display;\n",
       "        if (!display || display === 'none') {{\n",
       "            console.log([gd, 'removed!']);\n",
       "            Plotly.purge(gd);\n",
       "            observer.disconnect();\n",
       "        }}\n",
       "}});\n",
       "\n",
       "// Listen for the removal of the full notebook cells\n",
       "var notebookContainer = gd.closest('#notebook-container');\n",
       "if (notebookContainer) {{\n",
       "    x.observe(notebookContainer, {childList: true});\n",
       "}}\n",
       "\n",
       "// Listen for the clearing of the current output cell\n",
       "var outputEl = gd.closest('.output');\n",
       "if (outputEl) {{\n",
       "    x.observe(outputEl, {childList: true});\n",
       "}}\n",
       "\n",
       "                        })                };                });            </script>        </div>"
      ]
     },
     "metadata": {},
     "output_type": "display_data"
    }
   ],
   "source": [
    "results_copy = results.copy()\n",
    "results = results.dropna()\n",
    "results['Harvard Quintile'] = pd.qcut(results['Harvard Negative Proportion'],5)\n",
    "results['Fin Neg Quintile'] = pd.qcut(results['Fin Neg Negative Proportion'],5)\n",
    "\n",
    "harvard_agg_excess_ret = results.groupby(by='Harvard Quintile').median()['Excess Returns']\n",
    "harvard_agg_excess_ret.index = [1,2,3,4,5]\n",
    "\n",
    "Fin_Neg_excess_ret = results.groupby(by='Fin Neg Quintile').median()['Excess Returns']\n",
    "Fin_Neg_excess_ret.index = [1,2,3,4,5]\n",
    "\n",
    "final_results = pd.concat([harvard_agg_excess_ret, Fin_Neg_excess_ret], axis=1)\n",
    "final_results.columns=['H4N-Inf', 'Fin-Neg']\n",
    "pplot_df(final_results, yaxes_labels=['Median Filing Period Excess Return'],\n",
    "         title='Excess Return vs Quintile',\n",
    "         x_label='Quintile (based on proportion of negative words)')"
   ]
  },
  {
   "cell_type": "code",
   "execution_count": 58,
   "id": "665f28fb",
   "metadata": {},
   "outputs": [
    {
     "data": {
      "text/html": [
       "<div>\n",
       "<style scoped>\n",
       "    .dataframe tbody tr th:only-of-type {\n",
       "        vertical-align: middle;\n",
       "    }\n",
       "\n",
       "    .dataframe tbody tr th {\n",
       "        vertical-align: top;\n",
       "    }\n",
       "\n",
       "    .dataframe thead th {\n",
       "        text-align: right;\n",
       "    }\n",
       "</style>\n",
       "<table border=\"1\" class=\"dataframe\">\n",
       "  <thead>\n",
       "    <tr style=\"text-align: right;\">\n",
       "      <th></th>\n",
       "      <th>H4N-Inf</th>\n",
       "      <th>Fin-Neg</th>\n",
       "    </tr>\n",
       "  </thead>\n",
       "  <tbody>\n",
       "    <tr>\n",
       "      <th>1</th>\n",
       "      <td>-0.000250</td>\n",
       "      <td>-0.006771</td>\n",
       "    </tr>\n",
       "    <tr>\n",
       "      <th>2</th>\n",
       "      <td>-0.009552</td>\n",
       "      <td>-0.006084</td>\n",
       "    </tr>\n",
       "    <tr>\n",
       "      <th>3</th>\n",
       "      <td>0.004875</td>\n",
       "      <td>-0.015668</td>\n",
       "    </tr>\n",
       "    <tr>\n",
       "      <th>4</th>\n",
       "      <td>-0.019929</td>\n",
       "      <td>-0.016486</td>\n",
       "    </tr>\n",
       "    <tr>\n",
       "      <th>5</th>\n",
       "      <td>-0.021508</td>\n",
       "      <td>-0.021508</td>\n",
       "    </tr>\n",
       "  </tbody>\n",
       "</table>\n",
       "</div>"
      ],
      "text/plain": [
       "    H4N-Inf   Fin-Neg\n",
       "1 -0.000250 -0.006771\n",
       "2 -0.009552 -0.006084\n",
       "3  0.004875 -0.015668\n",
       "4 -0.019929 -0.016486\n",
       "5 -0.021508 -0.021508"
      ]
     },
     "execution_count": 58,
     "metadata": {},
     "output_type": "execute_result"
    }
   ],
   "source": [
    "final_results"
   ]
  },
  {
   "cell_type": "code",
   "execution_count": null,
   "id": "0b88a018",
   "metadata": {},
   "outputs": [],
   "source": []
  }
 ],
 "metadata": {
  "kernelspec": {
   "display_name": "Python 3 (ipykernel)",
   "language": "python",
   "name": "python3"
  },
  "language_info": {
   "codemirror_mode": {
    "name": "ipython",
    "version": 3
   },
   "file_extension": ".py",
   "mimetype": "text/x-python",
   "name": "python",
   "nbconvert_exporter": "python",
   "pygments_lexer": "ipython3",
   "version": "3.8.5"
  }
 },
 "nbformat": 4,
 "nbformat_minor": 5
}
